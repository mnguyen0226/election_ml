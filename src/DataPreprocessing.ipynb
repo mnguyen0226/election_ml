{
 "cells": [
  {
   "cell_type": "code",
   "execution_count": 2,
   "id": "0a10762f",
   "metadata": {},
   "outputs": [],
   "source": [
    "import pandas as pd"
   ]
  },
  {
   "cell_type": "code",
   "execution_count": 1,
   "id": "6cf93f68",
   "metadata": {},
   "outputs": [],
   "source": [
    "import os\n",
    "import sys\n",
    "# including modules\n",
    "%matplotlib inline\n",
    "import matplotlib.pyplot as plt\n",
    "import pandas as pd\n",
    "import datetime \n",
    "import operator\n",
    "import numpy as np"
   ]
  },
  {
   "cell_type": "code",
   "execution_count": 3,
   "id": "e93fa95b",
   "metadata": {},
   "outputs": [
    {
     "ename": "FileNotFoundError",
     "evalue": "[Errno 2] No such file or directory: 'cpi99'",
     "output_type": "error",
     "traceback": [
      "\u001b[1;31m---------------------------------------------------------------------------\u001b[0m",
      "\u001b[1;31mFileNotFoundError\u001b[0m                         Traceback (most recent call last)",
      "\u001b[1;32m<ipython-input-3-be442a60bdb4>\u001b[0m in \u001b[0;36m<module>\u001b[1;34m\u001b[0m\n\u001b[0;32m      5\u001b[0m \u001b[1;31m#dataset.head(3)\u001b[0m\u001b[1;33m\u001b[0m\u001b[1;33m\u001b[0m\u001b[1;33m\u001b[0m\u001b[0m\n\u001b[0;32m      6\u001b[0m \u001b[0mfn\u001b[0m \u001b[1;33m=\u001b[0m \u001b[0mpd\u001b[0m\u001b[1;33m.\u001b[0m\u001b[0mread_csv\u001b[0m\u001b[1;33m(\u001b[0m\u001b[0mfn\u001b[0m\u001b[1;33m)\u001b[0m\u001b[1;33m\u001b[0m\u001b[1;33m\u001b[0m\u001b[0m\n\u001b[1;32m----> 7\u001b[1;33m \u001b[0mcpi99\u001b[0m \u001b[1;33m=\u001b[0m \u001b[0mpd\u001b[0m\u001b[1;33m.\u001b[0m\u001b[0mread_csv\u001b[0m\u001b[1;33m(\u001b[0m\u001b[0mcpi99\u001b[0m\u001b[1;33m)\u001b[0m\u001b[1;33m\u001b[0m\u001b[1;33m\u001b[0m\u001b[0m\n\u001b[0m\u001b[0;32m      8\u001b[0m \u001b[0mfn\u001b[0m\u001b[1;33m.\u001b[0m\u001b[0mhead\u001b[0m\u001b[1;33m(\u001b[0m\u001b[1;36m3\u001b[0m\u001b[1;33m)\u001b[0m\u001b[1;33m\u001b[0m\u001b[1;33m\u001b[0m\u001b[0m\n",
      "\u001b[1;32m~\\anaconda3\\lib\\site-packages\\pandas\\io\\parsers.py\u001b[0m in \u001b[0;36mread_csv\u001b[1;34m(filepath_or_buffer, sep, delimiter, header, names, index_col, usecols, squeeze, prefix, mangle_dupe_cols, dtype, engine, converters, true_values, false_values, skipinitialspace, skiprows, skipfooter, nrows, na_values, keep_default_na, na_filter, verbose, skip_blank_lines, parse_dates, infer_datetime_format, keep_date_col, date_parser, dayfirst, cache_dates, iterator, chunksize, compression, thousands, decimal, lineterminator, quotechar, quoting, doublequote, escapechar, comment, encoding, dialect, error_bad_lines, warn_bad_lines, delim_whitespace, low_memory, memory_map, float_precision, storage_options)\u001b[0m\n\u001b[0;32m    608\u001b[0m     \u001b[0mkwds\u001b[0m\u001b[1;33m.\u001b[0m\u001b[0mupdate\u001b[0m\u001b[1;33m(\u001b[0m\u001b[0mkwds_defaults\u001b[0m\u001b[1;33m)\u001b[0m\u001b[1;33m\u001b[0m\u001b[1;33m\u001b[0m\u001b[0m\n\u001b[0;32m    609\u001b[0m \u001b[1;33m\u001b[0m\u001b[0m\n\u001b[1;32m--> 610\u001b[1;33m     \u001b[1;32mreturn\u001b[0m \u001b[0m_read\u001b[0m\u001b[1;33m(\u001b[0m\u001b[0mfilepath_or_buffer\u001b[0m\u001b[1;33m,\u001b[0m \u001b[0mkwds\u001b[0m\u001b[1;33m)\u001b[0m\u001b[1;33m\u001b[0m\u001b[1;33m\u001b[0m\u001b[0m\n\u001b[0m\u001b[0;32m    611\u001b[0m \u001b[1;33m\u001b[0m\u001b[0m\n\u001b[0;32m    612\u001b[0m \u001b[1;33m\u001b[0m\u001b[0m\n",
      "\u001b[1;32m~\\anaconda3\\lib\\site-packages\\pandas\\io\\parsers.py\u001b[0m in \u001b[0;36m_read\u001b[1;34m(filepath_or_buffer, kwds)\u001b[0m\n\u001b[0;32m    460\u001b[0m \u001b[1;33m\u001b[0m\u001b[0m\n\u001b[0;32m    461\u001b[0m     \u001b[1;31m# Create the parser.\u001b[0m\u001b[1;33m\u001b[0m\u001b[1;33m\u001b[0m\u001b[1;33m\u001b[0m\u001b[0m\n\u001b[1;32m--> 462\u001b[1;33m     \u001b[0mparser\u001b[0m \u001b[1;33m=\u001b[0m \u001b[0mTextFileReader\u001b[0m\u001b[1;33m(\u001b[0m\u001b[0mfilepath_or_buffer\u001b[0m\u001b[1;33m,\u001b[0m \u001b[1;33m**\u001b[0m\u001b[0mkwds\u001b[0m\u001b[1;33m)\u001b[0m\u001b[1;33m\u001b[0m\u001b[1;33m\u001b[0m\u001b[0m\n\u001b[0m\u001b[0;32m    463\u001b[0m \u001b[1;33m\u001b[0m\u001b[0m\n\u001b[0;32m    464\u001b[0m     \u001b[1;32mif\u001b[0m \u001b[0mchunksize\u001b[0m \u001b[1;32mor\u001b[0m \u001b[0miterator\u001b[0m\u001b[1;33m:\u001b[0m\u001b[1;33m\u001b[0m\u001b[1;33m\u001b[0m\u001b[0m\n",
      "\u001b[1;32m~\\anaconda3\\lib\\site-packages\\pandas\\io\\parsers.py\u001b[0m in \u001b[0;36m__init__\u001b[1;34m(self, f, engine, **kwds)\u001b[0m\n\u001b[0;32m    817\u001b[0m             \u001b[0mself\u001b[0m\u001b[1;33m.\u001b[0m\u001b[0moptions\u001b[0m\u001b[1;33m[\u001b[0m\u001b[1;34m\"has_index_names\"\u001b[0m\u001b[1;33m]\u001b[0m \u001b[1;33m=\u001b[0m \u001b[0mkwds\u001b[0m\u001b[1;33m[\u001b[0m\u001b[1;34m\"has_index_names\"\u001b[0m\u001b[1;33m]\u001b[0m\u001b[1;33m\u001b[0m\u001b[1;33m\u001b[0m\u001b[0m\n\u001b[0;32m    818\u001b[0m \u001b[1;33m\u001b[0m\u001b[0m\n\u001b[1;32m--> 819\u001b[1;33m         \u001b[0mself\u001b[0m\u001b[1;33m.\u001b[0m\u001b[0m_engine\u001b[0m \u001b[1;33m=\u001b[0m \u001b[0mself\u001b[0m\u001b[1;33m.\u001b[0m\u001b[0m_make_engine\u001b[0m\u001b[1;33m(\u001b[0m\u001b[0mself\u001b[0m\u001b[1;33m.\u001b[0m\u001b[0mengine\u001b[0m\u001b[1;33m)\u001b[0m\u001b[1;33m\u001b[0m\u001b[1;33m\u001b[0m\u001b[0m\n\u001b[0m\u001b[0;32m    820\u001b[0m \u001b[1;33m\u001b[0m\u001b[0m\n\u001b[0;32m    821\u001b[0m     \u001b[1;32mdef\u001b[0m \u001b[0mclose\u001b[0m\u001b[1;33m(\u001b[0m\u001b[0mself\u001b[0m\u001b[1;33m)\u001b[0m\u001b[1;33m:\u001b[0m\u001b[1;33m\u001b[0m\u001b[1;33m\u001b[0m\u001b[0m\n",
      "\u001b[1;32m~\\anaconda3\\lib\\site-packages\\pandas\\io\\parsers.py\u001b[0m in \u001b[0;36m_make_engine\u001b[1;34m(self, engine)\u001b[0m\n\u001b[0;32m   1048\u001b[0m             )\n\u001b[0;32m   1049\u001b[0m         \u001b[1;31m# error: Too many arguments for \"ParserBase\"\u001b[0m\u001b[1;33m\u001b[0m\u001b[1;33m\u001b[0m\u001b[1;33m\u001b[0m\u001b[0m\n\u001b[1;32m-> 1050\u001b[1;33m         \u001b[1;32mreturn\u001b[0m \u001b[0mmapping\u001b[0m\u001b[1;33m[\u001b[0m\u001b[0mengine\u001b[0m\u001b[1;33m]\u001b[0m\u001b[1;33m(\u001b[0m\u001b[0mself\u001b[0m\u001b[1;33m.\u001b[0m\u001b[0mf\u001b[0m\u001b[1;33m,\u001b[0m \u001b[1;33m**\u001b[0m\u001b[0mself\u001b[0m\u001b[1;33m.\u001b[0m\u001b[0moptions\u001b[0m\u001b[1;33m)\u001b[0m  \u001b[1;31m# type: ignore[call-arg]\u001b[0m\u001b[1;33m\u001b[0m\u001b[1;33m\u001b[0m\u001b[0m\n\u001b[0m\u001b[0;32m   1051\u001b[0m \u001b[1;33m\u001b[0m\u001b[0m\n\u001b[0;32m   1052\u001b[0m     \u001b[1;32mdef\u001b[0m \u001b[0m_failover_to_python\u001b[0m\u001b[1;33m(\u001b[0m\u001b[0mself\u001b[0m\u001b[1;33m)\u001b[0m\u001b[1;33m:\u001b[0m\u001b[1;33m\u001b[0m\u001b[1;33m\u001b[0m\u001b[0m\n",
      "\u001b[1;32m~\\anaconda3\\lib\\site-packages\\pandas\\io\\parsers.py\u001b[0m in \u001b[0;36m__init__\u001b[1;34m(self, src, **kwds)\u001b[0m\n\u001b[0;32m   1865\u001b[0m \u001b[1;33m\u001b[0m\u001b[0m\n\u001b[0;32m   1866\u001b[0m         \u001b[1;31m# open handles\u001b[0m\u001b[1;33m\u001b[0m\u001b[1;33m\u001b[0m\u001b[1;33m\u001b[0m\u001b[0m\n\u001b[1;32m-> 1867\u001b[1;33m         \u001b[0mself\u001b[0m\u001b[1;33m.\u001b[0m\u001b[0m_open_handles\u001b[0m\u001b[1;33m(\u001b[0m\u001b[0msrc\u001b[0m\u001b[1;33m,\u001b[0m \u001b[0mkwds\u001b[0m\u001b[1;33m)\u001b[0m\u001b[1;33m\u001b[0m\u001b[1;33m\u001b[0m\u001b[0m\n\u001b[0m\u001b[0;32m   1868\u001b[0m         \u001b[1;32massert\u001b[0m \u001b[0mself\u001b[0m\u001b[1;33m.\u001b[0m\u001b[0mhandles\u001b[0m \u001b[1;32mis\u001b[0m \u001b[1;32mnot\u001b[0m \u001b[1;32mNone\u001b[0m\u001b[1;33m\u001b[0m\u001b[1;33m\u001b[0m\u001b[0m\n\u001b[0;32m   1869\u001b[0m         \u001b[1;32mfor\u001b[0m \u001b[0mkey\u001b[0m \u001b[1;32min\u001b[0m \u001b[1;33m(\u001b[0m\u001b[1;34m\"storage_options\"\u001b[0m\u001b[1;33m,\u001b[0m \u001b[1;34m\"encoding\"\u001b[0m\u001b[1;33m,\u001b[0m \u001b[1;34m\"memory_map\"\u001b[0m\u001b[1;33m,\u001b[0m \u001b[1;34m\"compression\"\u001b[0m\u001b[1;33m)\u001b[0m\u001b[1;33m:\u001b[0m\u001b[1;33m\u001b[0m\u001b[1;33m\u001b[0m\u001b[0m\n",
      "\u001b[1;32m~\\anaconda3\\lib\\site-packages\\pandas\\io\\parsers.py\u001b[0m in \u001b[0;36m_open_handles\u001b[1;34m(self, src, kwds)\u001b[0m\n\u001b[0;32m   1360\u001b[0m         \u001b[0mLet\u001b[0m \u001b[0mthe\u001b[0m \u001b[0mreaders\u001b[0m \u001b[0mopen\u001b[0m \u001b[0mIOHanldes\u001b[0m \u001b[0mafter\u001b[0m \u001b[0mthey\u001b[0m \u001b[0mare\u001b[0m \u001b[0mdone\u001b[0m \u001b[1;32mwith\u001b[0m \u001b[0mtheir\u001b[0m \u001b[0mpotential\u001b[0m \u001b[0mraises\u001b[0m\u001b[1;33m.\u001b[0m\u001b[1;33m\u001b[0m\u001b[1;33m\u001b[0m\u001b[0m\n\u001b[0;32m   1361\u001b[0m         \"\"\"\n\u001b[1;32m-> 1362\u001b[1;33m         self.handles = get_handle(\n\u001b[0m\u001b[0;32m   1363\u001b[0m             \u001b[0msrc\u001b[0m\u001b[1;33m,\u001b[0m\u001b[1;33m\u001b[0m\u001b[1;33m\u001b[0m\u001b[0m\n\u001b[0;32m   1364\u001b[0m             \u001b[1;34m\"r\"\u001b[0m\u001b[1;33m,\u001b[0m\u001b[1;33m\u001b[0m\u001b[1;33m\u001b[0m\u001b[0m\n",
      "\u001b[1;32m~\\anaconda3\\lib\\site-packages\\pandas\\io\\common.py\u001b[0m in \u001b[0;36mget_handle\u001b[1;34m(path_or_buf, mode, encoding, compression, memory_map, is_text, errors, storage_options)\u001b[0m\n\u001b[0;32m    640\u001b[0m                 \u001b[0merrors\u001b[0m \u001b[1;33m=\u001b[0m \u001b[1;34m\"replace\"\u001b[0m\u001b[1;33m\u001b[0m\u001b[1;33m\u001b[0m\u001b[0m\n\u001b[0;32m    641\u001b[0m             \u001b[1;31m# Encoding\u001b[0m\u001b[1;33m\u001b[0m\u001b[1;33m\u001b[0m\u001b[1;33m\u001b[0m\u001b[0m\n\u001b[1;32m--> 642\u001b[1;33m             handle = open(\n\u001b[0m\u001b[0;32m    643\u001b[0m                 \u001b[0mhandle\u001b[0m\u001b[1;33m,\u001b[0m\u001b[1;33m\u001b[0m\u001b[1;33m\u001b[0m\u001b[0m\n\u001b[0;32m    644\u001b[0m                 \u001b[0mioargs\u001b[0m\u001b[1;33m.\u001b[0m\u001b[0mmode\u001b[0m\u001b[1;33m,\u001b[0m\u001b[1;33m\u001b[0m\u001b[1;33m\u001b[0m\u001b[0m\n",
      "\u001b[1;31mFileNotFoundError\u001b[0m: [Errno 2] No such file or directory: 'cpi99'"
     ]
    }
   ],
   "source": [
    "fn = 'ACS.csv'\n",
    "\n",
    "#fn = 'ACS_sm.csv'\n",
    "#dataset = pd.read_csv(filename)\n",
    "#dataset.head(3)\n",
    "fn = pd.read_csv(fn)\n",
    "\n",
    "fn.head(3)\n"
   ]
  },
  {
   "cell_type": "code",
   "execution_count": 4,
   "id": "2cdb3e2d",
   "metadata": {},
   "outputs": [],
   "source": [
    "cpi99='cpi99.csv'\n",
    "cpi99 = pd.read_csv(cpi99)"
   ]
  },
  {
   "cell_type": "code",
   "execution_count": null,
   "id": "ab91aad1",
   "metadata": {},
   "outputs": [],
   "source": []
  },
  {
   "cell_type": "code",
   "execution_count": 12,
   "id": "2869297a",
   "metadata": {},
   "outputs": [],
   "source": [
    "#wm = lambda x: np.average(x, weights=dataset.loc[x.index, \"perwt\"])"
   ]
  },
  {
   "cell_type": "code",
   "execution_count": 5,
   "id": "897bbf0e",
   "metadata": {},
   "outputs": [],
   "source": [
    "fn=pd.merge(fn,cpi99, how='left' ,on=[\"year\"])"
   ]
  },
  {
   "cell_type": "code",
   "execution_count": null,
   "id": "1be40897",
   "metadata": {},
   "outputs": [],
   "source": []
  },
  {
   "cell_type": "code",
   "execution_count": 6,
   "id": "32757466",
   "metadata": {},
   "outputs": [],
   "source": [
    "fn['ftotinc'].mask( fn['ftotinc'] == 9999999, np.NAN, inplace=True)\n",
    "fn['ftotinc'].mask( fn['ftotinc'] == 9999998, np.NaN, inplace=True)\n",
    "fn['ftotinc'].mask( fn['ftotinc'] <0, 0, inplace=True)\n"
   ]
  },
  {
   "cell_type": "code",
   "execution_count": 7,
   "id": "08c5ca8c",
   "metadata": {},
   "outputs": [],
   "source": [
    "fn['ftotinc']=fn['ftotinc']*fn['cpi99']"
   ]
  },
  {
   "cell_type": "code",
   "execution_count": 8,
   "id": "38bb19e8",
   "metadata": {},
   "outputs": [],
   "source": [
    "fn['inctot'].mask( fn['inctot'] == 9999999, np.NAN, inplace=True)\n",
    "fn['inctot'].mask( fn['inctot'] <0, 0, inplace=True)"
   ]
  },
  {
   "cell_type": "code",
   "execution_count": 9,
   "id": "151dddda",
   "metadata": {},
   "outputs": [],
   "source": [
    "fn['inctot']=fn['inctot']*fn['cpi99']"
   ]
  },
  {
   "cell_type": "code",
   "execution_count": 10,
   "id": "c9cd28f7",
   "metadata": {},
   "outputs": [],
   "source": [
    "fn['valueh'].mask( fn['valueh'] == 9999999, np.NAN, inplace=True)\n",
    "fn['valueh'].mask( fn['valueh'] == 9999998, np.NAN, inplace=True)\n",
    "fn['valueh'].mask( fn['valueh'] <0, 0, inplace=True)"
   ]
  },
  {
   "cell_type": "code",
   "execution_count": 11,
   "id": "5810bddb",
   "metadata": {},
   "outputs": [],
   "source": [
    "fn['valueh']=fn['valueh']*fn['cpi99']"
   ]
  },
  {
   "cell_type": "code",
   "execution_count": 12,
   "id": "02512891",
   "metadata": {},
   "outputs": [],
   "source": [
    "fn['mortamt1'].mask( fn['mortamt1'] == 0, np.NAN, inplace=True)\n",
    "fn['mortamt1'].mask( fn['mortamt1'] == 1, np.NAN, inplace=True)\n",
    "fn['mortamt1'].mask( fn['mortamt1'] <0, 0, inplace=True)"
   ]
  },
  {
   "cell_type": "code",
   "execution_count": 13,
   "id": "9a32f7e9",
   "metadata": {},
   "outputs": [],
   "source": [
    "fn['mortamt1']=fn['mortamt1']*fn['cpi99']"
   ]
  },
  {
   "cell_type": "code",
   "execution_count": 14,
   "id": "1b02a928",
   "metadata": {},
   "outputs": [],
   "source": [
    "fn['foodstmp'].mask( fn['foodstmp'] == 0, np.NAN, inplace=True)"
   ]
  },
  {
   "cell_type": "code",
   "execution_count": 15,
   "id": "977d48d8",
   "metadata": {},
   "outputs": [],
   "source": [
    "#identifying citizenship status\n",
    "#by default set everyone as citizen\n",
    "fn['ctz_stat']=1\n",
    "#replace naturalized citizens as 2\n",
    "fn.loc[(fn['citizen'] ==2), 'ctz_stat'] = 2\n",
    "#replace non citizens as 3\n",
    "fn.loc[(fn['citizen'] ==3), 'ctz_stat'] = 3\n",
    "fn.loc[(fn['citizen'] ==4), 'ctz_stat'] = 3\n",
    "\n"
   ]
  },
  {
   "cell_type": "code",
   "execution_count": 16,
   "id": "050be0d1",
   "metadata": {},
   "outputs": [],
   "source": [
    "#identifying language\n",
    "#by default set everyone as speaking English at home\n",
    "fn['lang']=1\n",
    "#replace all other languages as 2\n",
    "fn.loc[((fn['language'] > 1) &(fn['language']<96)), 'lang'] = 2\n"
   ]
  },
  {
   "cell_type": "code",
   "execution_count": 12,
   "id": "3fe14437",
   "metadata": {},
   "outputs": [],
   "source": [
    "#This did not work as :Speakeng variable was not found in the dataframe.\n",
    "#identifying those who can not speak English\n",
    "#by default set everyone who can speak English \n",
    "#fn['eng_speak']=1\n",
    "#replace those who can not speak English as 2\n",
    "#fn.loc[(fn['SPEAKENG'] ==3), 'eng_speak'] = 2"
   ]
  },
  {
   "cell_type": "code",
   "execution_count": 17,
   "id": "bdbcd2d9",
   "metadata": {},
   "outputs": [],
   "source": [
    "#classifying education\n",
    "#by default set everyone as having a Doctoral Degree as 4\n",
    "fn['educ_attain']=4\n",
    "#replace those who have high school diploma or below as 1\n",
    "fn.loc[(fn['educd'] <65), 'educ_attain'] = 1\n",
    "#replace those who have some college or bachelor degree as 2\n",
    "fn.loc[((fn['educd'] >64) &(fn['educd']<102)), 'educ_attain'] = 2\n",
    "#replace those who have more college education, masters, or a professional degree as 3\n",
    "fn.loc[((fn['educd'] >102) &(fn['educd']<116)), 'educ_attain'] = 3\n",
    "# if the value is missing, set it as none\n",
    "fn.loc[(fn['educd'] ==999), 'educ_attain'] = None"
   ]
  },
  {
   "cell_type": "code",
   "execution_count": 18,
   "id": "1f202788",
   "metadata": {},
   "outputs": [],
   "source": [
    "# identfying employment status - setting missing values as missing\n",
    "fn['empstat'].mask( fn['empstat'] == 0, np.NAN, inplace=True)"
   ]
  },
  {
   "cell_type": "code",
   "execution_count": 17,
   "id": "9be37efb",
   "metadata": {},
   "outputs": [],
   "source": [
    "# This variable vetstat was not found\n",
    "#identifying those who are Veterans\n",
    "#by default set everyone as not Veteran\n",
    "fn['veteran_stat']=1\n",
    "#replace those who are veterans\n",
    "fn.loc[(fn['vetstat'] ==2), 'veteran_stat'] = 2"
   ]
  },
  {
   "cell_type": "code",
   "execution_count": 27,
   "id": "6025eb51",
   "metadata": {},
   "outputs": [],
   "source": [
    "fn00_04=fn[fn.year<2005]"
   ]
  },
  {
   "cell_type": "code",
   "execution_count": 28,
   "id": "06193c80",
   "metadata": {},
   "outputs": [],
   "source": [
    "fn17_20.to_csv('acs17_20.csv')"
   ]
  },
  {
   "cell_type": "code",
   "execution_count": 16,
   "id": "5afe88eb",
   "metadata": {},
   "outputs": [],
   "source": [
    "#dataset['wfamtot']=dataset['ftotinc']*dataset['perwt']"
   ]
  },
  {
   "cell_type": "code",
   "execution_count": 17,
   "id": "8b62151e",
   "metadata": {},
   "outputs": [],
   "source": [
    "#dataset['all_age']=dataset['age']*dataset['perwt']"
   ]
  },
  {
   "cell_type": "code",
   "execution_count": 18,
   "id": "5baecfad",
   "metadata": {},
   "outputs": [],
   "source": [
    "#df=dataset.groupby([\"year\", \"state_county\"]).agg(All_fam_inc=(\"wfamtot\", \"sum\"),All_age=(\"all_age\", \"sum\"),All_weight=(\"perwt\", \"sum\"),W_avrg_age=(\"age\", wm),Family_income=(\"ftotinc\", wm),Fam_Inc_Avrg=(\"ftotinc\", \"mean\"), average_mortgage=(\"mortgage\", wm))"
   ]
  },
  {
   "cell_type": "code",
   "execution_count": 19,
   "id": "d84a8b02",
   "metadata": {},
   "outputs": [],
   "source": [
    "#df = pd.DataFrame(df.to_records())"
   ]
  },
  {
   "cell_type": "code",
   "execution_count": 20,
   "id": "9962e38f",
   "metadata": {},
   "outputs": [],
   "source": [
    "#df=df.round(1)"
   ]
  },
  {
   "cell_type": "code",
   "execution_count": 21,
   "id": "9749a53d",
   "metadata": {},
   "outputs": [],
   "source": [
    "#df['weighted_fam_inc']=df['All_fam_inc']/df['All_weight']"
   ]
  },
  {
   "cell_type": "code",
   "execution_count": 22,
   "id": "340c321f",
   "metadata": {},
   "outputs": [],
   "source": [
    "#df['weighted_age']=df['All_age']/df['All_weight']"
   ]
  },
  {
   "cell_type": "code",
   "execution_count": 23,
   "id": "e303f9e9",
   "metadata": {},
   "outputs": [],
   "source": [
    "#df=df.round(1)"
   ]
  },
  {
   "cell_type": "code",
   "execution_count": 24,
   "id": "1db44049",
   "metadata": {},
   "outputs": [
    {
     "data": {
      "text/html": [
       "<div>\n",
       "<style scoped>\n",
       "    .dataframe tbody tr th:only-of-type {\n",
       "        vertical-align: middle;\n",
       "    }\n",
       "\n",
       "    .dataframe tbody tr th {\n",
       "        vertical-align: top;\n",
       "    }\n",
       "\n",
       "    .dataframe thead th {\n",
       "        text-align: right;\n",
       "    }\n",
       "</style>\n",
       "<table border=\"1\" class=\"dataframe\">\n",
       "  <thead>\n",
       "    <tr style=\"text-align: right;\">\n",
       "      <th></th>\n",
       "      <th>year</th>\n",
       "      <th>state_county</th>\n",
       "      <th>All_fam_inc</th>\n",
       "      <th>All_age</th>\n",
       "      <th>All_weight</th>\n",
       "      <th>W_avrg_age</th>\n",
       "      <th>Family_income</th>\n",
       "      <th>Fam_Inc_Avrg</th>\n",
       "      <th>average_mortgage</th>\n",
       "      <th>weighted_fam_inc</th>\n",
       "      <th>weighted_age</th>\n",
       "    </tr>\n",
       "  </thead>\n",
       "  <tbody>\n",
       "    <tr>\n",
       "      <th>0</th>\n",
       "      <td>2000</td>\n",
       "      <td>1</td>\n",
       "      <td>154835552108</td>\n",
       "      <td>146803569</td>\n",
       "      <td>3191816</td>\n",
       "      <td>46.0</td>\n",
       "      <td>48510.2</td>\n",
       "      <td>51655.0</td>\n",
       "      <td>1.7</td>\n",
       "      <td>48510.2</td>\n",
       "      <td>46.0</td>\n",
       "    </tr>\n",
       "    <tr>\n",
       "      <th>1</th>\n",
       "      <td>2000</td>\n",
       "      <td>2</td>\n",
       "      <td>27348275500</td>\n",
       "      <td>17261529</td>\n",
       "      <td>406721</td>\n",
       "      <td>42.4</td>\n",
       "      <td>67240.9</td>\n",
       "      <td>69465.2</td>\n",
       "      <td>1.6</td>\n",
       "      <td>67240.9</td>\n",
       "      <td>42.4</td>\n",
       "    </tr>\n",
       "    <tr>\n",
       "      <th>2</th>\n",
       "      <td>2000</td>\n",
       "      <td>4</td>\n",
       "      <td>198811659574</td>\n",
       "      <td>164713718</td>\n",
       "      <td>3639273</td>\n",
       "      <td>45.3</td>\n",
       "      <td>54629.5</td>\n",
       "      <td>58403.5</td>\n",
       "      <td>1.7</td>\n",
       "      <td>54629.5</td>\n",
       "      <td>45.3</td>\n",
       "    </tr>\n",
       "  </tbody>\n",
       "</table>\n",
       "</div>"
      ],
      "text/plain": [
       "   year  state_county   All_fam_inc    All_age  All_weight  W_avrg_age  \\\n",
       "0  2000             1  154835552108  146803569     3191816        46.0   \n",
       "1  2000             2   27348275500   17261529      406721        42.4   \n",
       "2  2000             4  198811659574  164713718     3639273        45.3   \n",
       "\n",
       "   Family_income  Fam_Inc_Avrg  average_mortgage  weighted_fam_inc  \\\n",
       "0        48510.2       51655.0               1.7           48510.2   \n",
       "1        67240.9       69465.2               1.6           67240.9   \n",
       "2        54629.5       58403.5               1.7           54629.5   \n",
       "\n",
       "   weighted_age  \n",
       "0          46.0  \n",
       "1          42.4  \n",
       "2          45.3  "
      ]
     },
     "execution_count": 24,
     "metadata": {},
     "output_type": "execute_result"
    }
   ],
   "source": [
    "#df.head(3)"
   ]
  },
  {
   "cell_type": "code",
   "execution_count": 50,
   "id": "c05577b6",
   "metadata": {},
   "outputs": [],
   "source": [
    "def w_avrg(df,data_col,weight_col,by_col):\n",
    "    ''' Now data_col can be a list of variables '''\n",
    "    df_data = df[data_col].multiply(df[weight_col], axis='index')\n",
    "    df_weight = pd.notnull(df[data_col]).multiply(df[weight_col], axis='index')\n",
    "    df_data[by_col] = df[by_col]\n",
    "    df_weight[by_col] = df[by_col]    \n",
    "    result = df_data.groupby(by_col).sum() / df_weight.groupby(by_col).sum()\n",
    "    result = pd.DataFrame(result.to_records())\n",
    "    result=result.round(1)\n",
    "    return result"
   ]
  },
  {
   "cell_type": "code",
   "execution_count": 108,
   "id": "67c7c66f",
   "metadata": {},
   "outputs": [],
   "source": [
    "grp_by=list()"
   ]
  },
  {
   "cell_type": "code",
   "execution_count": 109,
   "id": "a3b0f016",
   "metadata": {},
   "outputs": [],
   "source": [
    "grp_by.append('year')"
   ]
  },
  {
   "cell_type": "code",
   "execution_count": 110,
   "id": "da186a4a",
   "metadata": {},
   "outputs": [],
   "source": [
    "grp_by.append('state_county')"
   ]
  },
  {
   "cell_type": "code",
   "execution_count": 111,
   "id": "63dec746",
   "metadata": {},
   "outputs": [],
   "source": [
    "var_col=list()"
   ]
  },
  {
   "cell_type": "code",
   "execution_count": 112,
   "id": "85dac11b",
   "metadata": {},
   "outputs": [],
   "source": [
    "var_col.append('age')\n",
    "var_col.append('ftotinc')"
   ]
  },
  {
   "cell_type": "code",
   "execution_count": 113,
   "id": "ce7c51b2",
   "metadata": {},
   "outputs": [],
   "source": [
    "test=w_avrg(fn13_16,var_col,'perwt',grp_by)"
   ]
  },
  {
   "cell_type": "code",
   "execution_count": 114,
   "id": "e71b97d3",
   "metadata": {},
   "outputs": [
    {
     "data": {
      "text/html": [
       "<div>\n",
       "<style scoped>\n",
       "    .dataframe tbody tr th:only-of-type {\n",
       "        vertical-align: middle;\n",
       "    }\n",
       "\n",
       "    .dataframe tbody tr th {\n",
       "        vertical-align: top;\n",
       "    }\n",
       "\n",
       "    .dataframe thead th {\n",
       "        text-align: right;\n",
       "    }\n",
       "</style>\n",
       "<table border=\"1\" class=\"dataframe\">\n",
       "  <thead>\n",
       "    <tr style=\"text-align: right;\">\n",
       "      <th></th>\n",
       "      <th>year</th>\n",
       "      <th>state_county</th>\n",
       "      <th>age</th>\n",
       "      <th>ftotinc</th>\n",
       "    </tr>\n",
       "  </thead>\n",
       "  <tbody>\n",
       "    <tr>\n",
       "      <th>0</th>\n",
       "      <td>2013</td>\n",
       "      <td>1000</td>\n",
       "      <td>47.4</td>\n",
       "      <td>43989.5</td>\n",
       "    </tr>\n",
       "    <tr>\n",
       "      <th>1</th>\n",
       "      <td>2013</td>\n",
       "      <td>1003</td>\n",
       "      <td>49.4</td>\n",
       "      <td>47498.9</td>\n",
       "    </tr>\n",
       "    <tr>\n",
       "      <th>2</th>\n",
       "      <td>2013</td>\n",
       "      <td>1015</td>\n",
       "      <td>47.2</td>\n",
       "      <td>37874.8</td>\n",
       "    </tr>\n",
       "  </tbody>\n",
       "</table>\n",
       "</div>"
      ],
      "text/plain": [
       "   year  state_county   age  ftotinc\n",
       "0  2013          1000  47.4  43989.5\n",
       "1  2013          1003  49.4  47498.9\n",
       "2  2013          1015  47.2  37874.8"
      ]
     },
     "execution_count": 114,
     "metadata": {},
     "output_type": "execute_result"
    }
   ],
   "source": [
    "test.head(3)"
   ]
  },
  {
   "cell_type": "code",
   "execution_count": 115,
   "id": "d768ac52",
   "metadata": {},
   "outputs": [],
   "source": [
    "myun=fn13_16.groupby(['year','state_county'],as_index=False).agg({'inctot': 'mean','mortamt1': 'mean', 'sex':'count' })"
   ]
  },
  {
   "cell_type": "code",
   "execution_count": 116,
   "id": "a4b8bdf5",
   "metadata": {},
   "outputs": [
    {
     "data": {
      "text/html": [
       "<div>\n",
       "<style scoped>\n",
       "    .dataframe tbody tr th:only-of-type {\n",
       "        vertical-align: middle;\n",
       "    }\n",
       "\n",
       "    .dataframe tbody tr th {\n",
       "        vertical-align: top;\n",
       "    }\n",
       "\n",
       "    .dataframe thead th {\n",
       "        text-align: right;\n",
       "    }\n",
       "</style>\n",
       "<table border=\"1\" class=\"dataframe\">\n",
       "  <thead>\n",
       "    <tr style=\"text-align: right;\">\n",
       "      <th></th>\n",
       "      <th>year</th>\n",
       "      <th>state_county</th>\n",
       "      <th>inctot</th>\n",
       "      <th>mortamt1</th>\n",
       "      <th>sex</th>\n",
       "    </tr>\n",
       "  </thead>\n",
       "  <tbody>\n",
       "    <tr>\n",
       "      <th>0</th>\n",
       "      <td>2013</td>\n",
       "      <td>1000</td>\n",
       "      <td>21147.993858</td>\n",
       "      <td>567.128177</td>\n",
       "      <td>25631</td>\n",
       "    </tr>\n",
       "    <tr>\n",
       "      <th>1</th>\n",
       "      <td>2013</td>\n",
       "      <td>1003</td>\n",
       "      <td>25008.576363</td>\n",
       "      <td>696.433539</td>\n",
       "      <td>1071</td>\n",
       "    </tr>\n",
       "    <tr>\n",
       "      <th>2</th>\n",
       "      <td>2013</td>\n",
       "      <td>1015</td>\n",
       "      <td>17909.555904</td>\n",
       "      <td>488.263423</td>\n",
       "      <td>785</td>\n",
       "    </tr>\n",
       "  </tbody>\n",
       "</table>\n",
       "</div>"
      ],
      "text/plain": [
       "   year  state_county        inctot    mortamt1    sex\n",
       "0  2013          1000  21147.993858  567.128177  25631\n",
       "1  2013          1003  25008.576363  696.433539   1071\n",
       "2  2013          1015  17909.555904  488.263423    785"
      ]
     },
     "execution_count": 116,
     "metadata": {},
     "output_type": "execute_result"
    }
   ],
   "source": [
    "myun.head(3)"
   ]
  },
  {
   "cell_type": "code",
   "execution_count": 117,
   "id": "b4dd2ac0",
   "metadata": {},
   "outputs": [],
   "source": [
    "final=pd.merge(myun,test, how='left' ,on=[\"year\",\"state_county\"])"
   ]
  },
  {
   "cell_type": "code",
   "execution_count": 118,
   "id": "ee7f0406",
   "metadata": {},
   "outputs": [
    {
     "data": {
      "text/html": [
       "<div>\n",
       "<style scoped>\n",
       "    .dataframe tbody tr th:only-of-type {\n",
       "        vertical-align: middle;\n",
       "    }\n",
       "\n",
       "    .dataframe tbody tr th {\n",
       "        vertical-align: top;\n",
       "    }\n",
       "\n",
       "    .dataframe thead th {\n",
       "        text-align: right;\n",
       "    }\n",
       "</style>\n",
       "<table border=\"1\" class=\"dataframe\">\n",
       "  <thead>\n",
       "    <tr style=\"text-align: right;\">\n",
       "      <th></th>\n",
       "      <th>year</th>\n",
       "      <th>state_county</th>\n",
       "      <th>inctot</th>\n",
       "      <th>mortamt1</th>\n",
       "      <th>sex</th>\n",
       "      <th>age</th>\n",
       "      <th>ftotinc</th>\n",
       "    </tr>\n",
       "  </thead>\n",
       "  <tbody>\n",
       "    <tr>\n",
       "      <th>0</th>\n",
       "      <td>2013</td>\n",
       "      <td>1000</td>\n",
       "      <td>21147.993858</td>\n",
       "      <td>567.128177</td>\n",
       "      <td>25631</td>\n",
       "      <td>47.4</td>\n",
       "      <td>43989.5</td>\n",
       "    </tr>\n",
       "    <tr>\n",
       "      <th>1</th>\n",
       "      <td>2013</td>\n",
       "      <td>1003</td>\n",
       "      <td>25008.576363</td>\n",
       "      <td>696.433539</td>\n",
       "      <td>1071</td>\n",
       "      <td>49.4</td>\n",
       "      <td>47498.9</td>\n",
       "    </tr>\n",
       "    <tr>\n",
       "      <th>2</th>\n",
       "      <td>2013</td>\n",
       "      <td>1015</td>\n",
       "      <td>17909.555904</td>\n",
       "      <td>488.263423</td>\n",
       "      <td>785</td>\n",
       "      <td>47.2</td>\n",
       "      <td>37874.8</td>\n",
       "    </tr>\n",
       "  </tbody>\n",
       "</table>\n",
       "</div>"
      ],
      "text/plain": [
       "   year  state_county        inctot    mortamt1    sex   age  ftotinc\n",
       "0  2013          1000  21147.993858  567.128177  25631  47.4  43989.5\n",
       "1  2013          1003  25008.576363  696.433539   1071  49.4  47498.9\n",
       "2  2013          1015  17909.555904  488.263423    785  47.2  37874.8"
      ]
     },
     "execution_count": 118,
     "metadata": {},
     "output_type": "execute_result"
    }
   ],
   "source": [
    "final.head(3)"
   ]
  },
  {
   "cell_type": "code",
   "execution_count": null,
   "id": "7e570ad5",
   "metadata": {},
   "outputs": [],
   "source": [
    "# This code will return percentages of unique values in select columns listed in cols list. IT will create a new column for each unique value in each column"
   ]
  },
  {
   "cell_type": "code",
   "execution_count": 31,
   "id": "bffb9ed1",
   "metadata": {},
   "outputs": [],
   "source": [
    "from pandas._libs.lib import maybe_booleans_to_slice"
   ]
  },
  {
   "cell_type": "code",
   "execution_count": 119,
   "id": "f24686d6",
   "metadata": {},
   "outputs": [],
   "source": [
    "cols=list()"
   ]
  },
  {
   "cell_type": "code",
   "execution_count": 33,
   "id": "34b1d7c0",
   "metadata": {},
   "outputs": [],
   "source": [
    "#cols.extend(('foodstmp','sex','marst','race','ctz_stat','lang','eng_speak','educ_attain','empstat','veteran_stat'))"
   ]
  },
  {
   "cell_type": "code",
   "execution_count": 120,
   "id": "2d37f437",
   "metadata": {},
   "outputs": [],
   "source": [
    "cols.extend(('foodstmp','sex','marst','race','ctz_stat','lang','educ_attain','empstat'))"
   ]
  },
  {
   "cell_type": "code",
   "execution_count": 121,
   "id": "d9eba125",
   "metadata": {},
   "outputs": [],
   "source": [
    "for column in cols:\n",
    "  #get the list of distinct answers (but not missing values (NaN)) of the variable in an array -> both myarray and distval are the same at this stage\n",
    "  #copy the column(variable) into a new temporary one-column dataframe\n",
    "  tempcol=fn13_16[column]\n",
    "  tempcol1=tempcol[tempcol!='nan']\n",
    "  #drop NaN values and get remaining distinct answers\n",
    "  myarray=tempcol1.dropna().unique().astype(str)\n",
    "  distval=tempcol1.dropna().unique().astype(str)\n",
    "  #find number of distinct answers of the question\n",
    "  mylen=len(myarray)\n",
    "  # Add the column name (question number) to these distinct answers \n",
    "  # at this stage myarray will include the list variable_name+distinct answer that I will use for renaming columns\n",
    "  for i in range (mylen):\n",
    "    myarray[i]=column+ '_'+ myarray[i]\n",
    "  # finding statistics -> grouping by year and state_county and counting the number of each distinct answer\n",
    "  # Crosstab counts distinct answers but not NaN values. Therefore we do not need to worry about missing values here as they are not counted. \n",
    "  # Crosstab produces a table, not a data frame\n",
    "  test1=pd.crosstab([fn13_16.year, fn13_16.state_county], fn13_16[column])\n",
    "  # converting the summary statistics table to a dataframe\n",
    "  flattened = pd.DataFrame(test1.to_records())\n",
    "  # Renaming the columns to show the variable_name+distinct answer\n",
    "  for i in range (mylen):\n",
    "    flattened.rename(columns={distval[i]:myarray[i]}, inplace=True)\n",
    "  # Adding the counts of each value into a total column\n",
    "  flattened[column+'_All'] = flattened[myarray].sum(axis=1).astype(int)\n",
    "  # creating new columns (variable_name+distinct_value+freq) to show the percentages in addition to the counts \n",
    "  for i in range (mylen):\n",
    "    flattened[myarray[i]+'_freq']=(flattened[myarray[i]]/flattened[column+\"_All\"])*100\n",
    "  #Rounding all percentages into a single decimal format\n",
    "  flattened1=np.round(flattened, decimals = 1)\n",
    "  #flattened=flattened.round(1)\n",
    "  # add the statistics of the variable to the final dataframe by merging based on key fields.\n",
    "  final=pd.merge(final,flattened1, how='left' ,on=[\"year\",\"state_county\"])\n",
    "# convert all missing cells into 0.\n",
    "final.fillna(0, inplace=True)"
   ]
  },
  {
   "cell_type": "code",
   "execution_count": 122,
   "id": "0e40f547",
   "metadata": {},
   "outputs": [
    {
     "data": {
      "text/html": [
       "<div>\n",
       "<style scoped>\n",
       "    .dataframe tbody tr th:only-of-type {\n",
       "        vertical-align: middle;\n",
       "    }\n",
       "\n",
       "    .dataframe tbody tr th {\n",
       "        vertical-align: top;\n",
       "    }\n",
       "\n",
       "    .dataframe thead th {\n",
       "        text-align: right;\n",
       "    }\n",
       "</style>\n",
       "<table border=\"1\" class=\"dataframe\">\n",
       "  <thead>\n",
       "    <tr style=\"text-align: right;\">\n",
       "      <th></th>\n",
       "      <th>year</th>\n",
       "      <th>state_county</th>\n",
       "      <th>inctot</th>\n",
       "      <th>mortamt1</th>\n",
       "      <th>sex</th>\n",
       "      <th>age</th>\n",
       "      <th>ftotinc</th>\n",
       "      <th>foodstmp_1</th>\n",
       "      <th>foodstmp_2</th>\n",
       "      <th>foodstmp_All</th>\n",
       "      <th>...</th>\n",
       "      <th>educ_attain_1.0_freq</th>\n",
       "      <th>educ_attain_4.0_freq</th>\n",
       "      <th>educ_attain_3.0_freq</th>\n",
       "      <th>empstat_1.0</th>\n",
       "      <th>empstat_2.0</th>\n",
       "      <th>empstat_3.0</th>\n",
       "      <th>empstat_All</th>\n",
       "      <th>empstat_3.0_freq</th>\n",
       "      <th>empstat_1.0_freq</th>\n",
       "      <th>empstat_2.0_freq</th>\n",
       "    </tr>\n",
       "  </thead>\n",
       "  <tbody>\n",
       "    <tr>\n",
       "      <th>0</th>\n",
       "      <td>2013</td>\n",
       "      <td>1000</td>\n",
       "      <td>21147.993858</td>\n",
       "      <td>567.128177</td>\n",
       "      <td>25631</td>\n",
       "      <td>47.4</td>\n",
       "      <td>43989.5</td>\n",
       "      <td>21870</td>\n",
       "      <td>3761</td>\n",
       "      <td>25631</td>\n",
       "      <td>...</td>\n",
       "      <td>49.3</td>\n",
       "      <td>0.7</td>\n",
       "      <td>6.4</td>\n",
       "      <td>12617</td>\n",
       "      <td>1218</td>\n",
       "      <td>11796</td>\n",
       "      <td>25631</td>\n",
       "      <td>46.0</td>\n",
       "      <td>49.2</td>\n",
       "      <td>4.8</td>\n",
       "    </tr>\n",
       "    <tr>\n",
       "      <th>1</th>\n",
       "      <td>2013</td>\n",
       "      <td>1003</td>\n",
       "      <td>25008.576363</td>\n",
       "      <td>696.433539</td>\n",
       "      <td>1071</td>\n",
       "      <td>49.4</td>\n",
       "      <td>47498.9</td>\n",
       "      <td>968</td>\n",
       "      <td>103</td>\n",
       "      <td>1071</td>\n",
       "      <td>...</td>\n",
       "      <td>38.8</td>\n",
       "      <td>0.8</td>\n",
       "      <td>7.7</td>\n",
       "      <td>564</td>\n",
       "      <td>40</td>\n",
       "      <td>467</td>\n",
       "      <td>1071</td>\n",
       "      <td>43.6</td>\n",
       "      <td>52.7</td>\n",
       "      <td>3.7</td>\n",
       "    </tr>\n",
       "    <tr>\n",
       "      <th>2</th>\n",
       "      <td>2013</td>\n",
       "      <td>1015</td>\n",
       "      <td>17909.555904</td>\n",
       "      <td>488.263423</td>\n",
       "      <td>785</td>\n",
       "      <td>47.2</td>\n",
       "      <td>37874.8</td>\n",
       "      <td>652</td>\n",
       "      <td>133</td>\n",
       "      <td>785</td>\n",
       "      <td>...</td>\n",
       "      <td>50.3</td>\n",
       "      <td>0.6</td>\n",
       "      <td>5.9</td>\n",
       "      <td>353</td>\n",
       "      <td>55</td>\n",
       "      <td>377</td>\n",
       "      <td>785</td>\n",
       "      <td>48.0</td>\n",
       "      <td>45.0</td>\n",
       "      <td>7.0</td>\n",
       "    </tr>\n",
       "  </tbody>\n",
       "</table>\n",
       "<p>3 rows × 77 columns</p>\n",
       "</div>"
      ],
      "text/plain": [
       "   year  state_county        inctot    mortamt1    sex   age  ftotinc  \\\n",
       "0  2013          1000  21147.993858  567.128177  25631  47.4  43989.5   \n",
       "1  2013          1003  25008.576363  696.433539   1071  49.4  47498.9   \n",
       "2  2013          1015  17909.555904  488.263423    785  47.2  37874.8   \n",
       "\n",
       "   foodstmp_1  foodstmp_2  foodstmp_All  ...  educ_attain_1.0_freq  \\\n",
       "0       21870        3761         25631  ...                  49.3   \n",
       "1         968         103          1071  ...                  38.8   \n",
       "2         652         133           785  ...                  50.3   \n",
       "\n",
       "   educ_attain_4.0_freq  educ_attain_3.0_freq  empstat_1.0  empstat_2.0  \\\n",
       "0                   0.7                   6.4        12617         1218   \n",
       "1                   0.8                   7.7          564           40   \n",
       "2                   0.6                   5.9          353           55   \n",
       "\n",
       "   empstat_3.0  empstat_All  empstat_3.0_freq  empstat_1.0_freq  \\\n",
       "0        11796        25631              46.0              49.2   \n",
       "1          467         1071              43.6              52.7   \n",
       "2          377          785              48.0              45.0   \n",
       "\n",
       "   empstat_2.0_freq  \n",
       "0               4.8  \n",
       "1               3.7  \n",
       "2               7.0  \n",
       "\n",
       "[3 rows x 77 columns]"
      ]
     },
     "execution_count": 122,
     "metadata": {},
     "output_type": "execute_result"
    }
   ],
   "source": [
    "final.head(3)"
   ]
  },
  {
   "cell_type": "code",
   "execution_count": 124,
   "id": "3e6c833e",
   "metadata": {},
   "outputs": [],
   "source": [
    "final = final.dropna()"
   ]
  },
  {
   "cell_type": "code",
   "execution_count": 125,
   "id": "4ce0e9ec",
   "metadata": {},
   "outputs": [
    {
     "data": {
      "text/plain": [
       "(1912, 77)"
      ]
     },
     "execution_count": 125,
     "metadata": {},
     "output_type": "execute_result"
    }
   ],
   "source": [
    "final.shape"
   ]
  },
  {
   "cell_type": "code",
   "execution_count": 126,
   "id": "50e193ac",
   "metadata": {},
   "outputs": [],
   "source": [
    "final.to_csv('final13_16.csv')"
   ]
  },
  {
   "cell_type": "code",
   "execution_count": null,
   "id": "73bf556c",
   "metadata": {},
   "outputs": [],
   "source": []
  },
  {
   "cell_type": "code",
   "execution_count": 127,
   "id": "5548e5e8",
   "metadata": {},
   "outputs": [],
   "source": [
    "df1='final00_04.csv'\n",
    "df1 = pd.read_csv(df1)"
   ]
  },
  {
   "cell_type": "code",
   "execution_count": 128,
   "id": "b1de887d",
   "metadata": {},
   "outputs": [],
   "source": [
    "df2='final05_08.csv'\n",
    "df2 = pd.read_csv(df2)"
   ]
  },
  {
   "cell_type": "code",
   "execution_count": 129,
   "id": "f5b6761b",
   "metadata": {},
   "outputs": [],
   "source": [
    "df3='final09_12.csv'\n",
    "df3 = pd.read_csv(df3)"
   ]
  },
  {
   "cell_type": "code",
   "execution_count": 130,
   "id": "aef77f61",
   "metadata": {},
   "outputs": [],
   "source": [
    "df4='final13_16.csv'\n",
    "df4 = pd.read_csv(df4)"
   ]
  },
  {
   "cell_type": "code",
   "execution_count": 131,
   "id": "03fda8f6",
   "metadata": {},
   "outputs": [],
   "source": [
    "df5='final17_20.csv'\n",
    "df5 = pd.read_csv(df5)"
   ]
  },
  {
   "cell_type": "code",
   "execution_count": 132,
   "id": "9b7f110b",
   "metadata": {},
   "outputs": [],
   "source": [
    "final_data=pd.concat([df1,df2,df3,df4,df5],ignore_index=True)"
   ]
  },
  {
   "cell_type": "code",
   "execution_count": 133,
   "id": "d6ed9a8d",
   "metadata": {},
   "outputs": [
    {
     "data": {
      "text/plain": [
       "(7526, 78)"
      ]
     },
     "execution_count": 133,
     "metadata": {},
     "output_type": "execute_result"
    }
   ],
   "source": [
    "final_data.shape"
   ]
  },
  {
   "cell_type": "code",
   "execution_count": 134,
   "id": "991d8337",
   "metadata": {},
   "outputs": [],
   "source": [
    "final_data=np.round(final_data, decimals = 1)"
   ]
  },
  {
   "cell_type": "code",
   "execution_count": 135,
   "id": "00bd8679",
   "metadata": {},
   "outputs": [],
   "source": [
    "final_data.to_csv('final_data.csv')"
   ]
  },
  {
   "cell_type": "code",
   "execution_count": 138,
   "id": "7fc2ee46",
   "metadata": {},
   "outputs": [],
   "source": [
    "election='election.csv'\n",
    "election = pd.read_csv(election)"
   ]
  },
  {
   "cell_type": "code",
   "execution_count": 139,
   "id": "c80d83a5",
   "metadata": {},
   "outputs": [],
   "source": [
    "data_combined=pd.merge(final_data,election, how='left' ,on=[\"year\",\"state_county\"])"
   ]
  },
  {
   "cell_type": "code",
   "execution_count": 140,
   "id": "576c03f4",
   "metadata": {},
   "outputs": [],
   "source": [
    "data_combined.to_csv('data_combined.csv')"
   ]
  }
 ],
 "metadata": {
  "kernelspec": {
   "display_name": "Python 3",
   "language": "python",
   "name": "python3"
  },
  "language_info": {
   "codemirror_mode": {
    "name": "ipython",
    "version": 3
   },
   "file_extension": ".py",
   "mimetype": "text/x-python",
   "name": "python",
   "nbconvert_exporter": "python",
   "pygments_lexer": "ipython3",
   "version": "3.8.8"
  }
 },
 "nbformat": 4,
 "nbformat_minor": 5
}
